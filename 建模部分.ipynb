{
 "cells": [
  {
   "cell_type": "code",
   "execution_count": 1,
   "metadata": {},
   "outputs": [],
   "source": [
    "import numpy as np\n",
    "import pandas as pd\n",
    "import matplotlib.pyplot as plt\n",
    "import seaborn as sns\n",
    "from cal import cal_woe_iv, feature_selection, vif_cal, replace_woe\n",
    "from statsmodels.stats.outliers_influence import variance_inflation_factor\n",
    "from sklearn.metrics import roc_curve, auc\n",
    "from sklearn.linear_model import LogisticRegression\n",
    "from sklearn.model_selection import train_test_split\n",
    "%matplotlib inline\n",
    "pd.options.display.max_rows = 200\n",
    "pd.options.display.max_columns = 200"
   ]
  },
  {
   "cell_type": "markdown",
   "metadata": {},
   "source": [
    "这里的cal这个文件里的函数是参考以下的文章，然后自己写的，不好看就先不贴了。  \n",
    "https://cloud.tencent.com/developer/article/1092198  \n",
    "https://www.statsmodels.org/dev/generated/statsmodels.stats.outliers_influence.variance_inflation_factor.html  \n",
    "https://www.jianshu.com/p/b1b1344bd99f"
   ]
  },
  {
   "cell_type": "markdown",
   "metadata": {},
   "source": [
    "# 1.特征选取"
   ]
  },
  {
   "cell_type": "code",
   "execution_count": 2,
   "metadata": {},
   "outputs": [],
   "source": [
    "df = pd.read_csv('../data/rough_clean_data.csv')"
   ]
  },
  {
   "cell_type": "code",
   "execution_count": 3,
   "metadata": {},
   "outputs": [
    {
     "name": "stdout",
     "output_type": "stream",
     "text": [
      "<class 'pandas.core.frame.DataFrame'>\n",
      "RangeIndex: 238636 entries, 0 to 238635\n",
      "Data columns (total 55 columns):\n",
      "emp_length                    238636 non-null object\n",
      "home_ownership                238636 non-null object\n",
      "annual_inc                    238636 non-null float64\n",
      "verification_status           238636 non-null object\n",
      "purpose                       238636 non-null object\n",
      "dti                           238636 non-null float64\n",
      "inq_last_6mths                238636 non-null float64\n",
      "open_acc                      238636 non-null float64\n",
      "revol_bal                     238636 non-null float64\n",
      "revol_util                    238636 non-null float64\n",
      "total_acc                     238636 non-null float64\n",
      "tot_cur_bal                   238636 non-null float64\n",
      "open_acc_6m                   238636 non-null float64\n",
      "open_act_il                   238636 non-null float64\n",
      "open_il_12m                   238636 non-null float64\n",
      "open_il_24m                   238636 non-null float64\n",
      "mths_since_rcnt_il            238636 non-null float64\n",
      "total_bal_il                  238636 non-null float64\n",
      "il_util                       238636 non-null float64\n",
      "open_rv_12m                   238636 non-null float64\n",
      "open_rv_24m                   238636 non-null float64\n",
      "max_bal_bc                    238636 non-null float64\n",
      "all_util                      238636 non-null float64\n",
      "total_rev_hi_lim              238636 non-null float64\n",
      "inq_fi                        238636 non-null float64\n",
      "total_cu_tl                   238636 non-null float64\n",
      "inq_last_12m                  238636 non-null float64\n",
      "acc_open_past_24mths          238636 non-null float64\n",
      "avg_cur_bal                   238636 non-null float64\n",
      "bc_open_to_buy                238636 non-null float64\n",
      "bc_util                       238636 non-null float64\n",
      "mo_sin_old_il_acct            238636 non-null float64\n",
      "mo_sin_old_rev_tl_op          238636 non-null float64\n",
      "mo_sin_rcnt_rev_tl_op         238636 non-null float64\n",
      "mo_sin_rcnt_tl                238636 non-null float64\n",
      "mort_acc                      238636 non-null float64\n",
      "mths_since_recent_bc          238636 non-null float64\n",
      "mths_since_recent_inq         238636 non-null float64\n",
      "num_actv_bc_tl                238636 non-null float64\n",
      "num_actv_rev_tl               238636 non-null float64\n",
      "num_bc_sats                   238636 non-null float64\n",
      "num_bc_tl                     238636 non-null float64\n",
      "num_il_tl                     238636 non-null float64\n",
      "num_op_rev_tl                 238636 non-null float64\n",
      "num_rev_accts                 238636 non-null float64\n",
      "num_rev_tl_bal_gt_0           238636 non-null float64\n",
      "num_sats                      238636 non-null float64\n",
      "num_tl_op_past_12m            238636 non-null float64\n",
      "pct_tl_nvr_dlq                238636 non-null float64\n",
      "percent_bc_gt_75              238636 non-null float64\n",
      "tot_hi_cred_lim               238636 non-null float64\n",
      "total_bal_ex_mort             238636 non-null float64\n",
      "total_bc_limit                238636 non-null float64\n",
      "total_il_high_credit_limit    238636 non-null float64\n",
      "class                         238636 non-null int64\n",
      "dtypes: float64(50), int64(1), object(4)\n",
      "memory usage: 100.1+ MB\n"
     ]
    }
   ],
   "source": [
    "df.info()"
   ]
  },
  {
   "cell_type": "markdown",
   "metadata": {},
   "source": [
    "可以看到经过前一篇数据处理之后，变量数量从145个减少到了55个不过依然很多，这里使用评分卡模型中经常使用的woe与iv来进行变量的筛选。"
   ]
  },
  {
   "cell_type": "code",
   "execution_count": 4,
   "metadata": {},
   "outputs": [],
   "source": [
    "woe_iv_list = cal_woe_iv(df)\n",
    "feature_list = feature_selection(woe_iv_list)"
   ]
  },
  {
   "cell_type": "code",
   "execution_count": 5,
   "metadata": {},
   "outputs": [
    {
     "data": {
      "text/html": [
       "<div>\n",
       "<style scoped>\n",
       "    .dataframe tbody tr th:only-of-type {\n",
       "        vertical-align: middle;\n",
       "    }\n",
       "\n",
       "    .dataframe tbody tr th {\n",
       "        vertical-align: top;\n",
       "    }\n",
       "\n",
       "    .dataframe thead th {\n",
       "        text-align: right;\n",
       "    }\n",
       "</style>\n",
       "<table border=\"1\" class=\"dataframe\">\n",
       "  <thead>\n",
       "    <tr style=\"text-align: right;\">\n",
       "      <th></th>\n",
       "      <th>col</th>\n",
       "      <th>iv</th>\n",
       "    </tr>\n",
       "  </thead>\n",
       "  <tbody>\n",
       "    <tr>\n",
       "      <th>0</th>\n",
       "      <td>verification_status</td>\n",
       "      <td>0.077051</td>\n",
       "    </tr>\n",
       "    <tr>\n",
       "      <th>1</th>\n",
       "      <td>purpose</td>\n",
       "      <td>0.059431</td>\n",
       "    </tr>\n",
       "    <tr>\n",
       "      <th>2</th>\n",
       "      <td>inq_last_6mths</td>\n",
       "      <td>0.039703</td>\n",
       "    </tr>\n",
       "    <tr>\n",
       "      <th>3</th>\n",
       "      <td>revol_bal</td>\n",
       "      <td>0.028345</td>\n",
       "    </tr>\n",
       "    <tr>\n",
       "      <th>4</th>\n",
       "      <td>max_bal_bc</td>\n",
       "      <td>0.036580</td>\n",
       "    </tr>\n",
       "    <tr>\n",
       "      <th>5</th>\n",
       "      <td>total_rev_hi_lim</td>\n",
       "      <td>0.048971</td>\n",
       "    </tr>\n",
       "    <tr>\n",
       "      <th>6</th>\n",
       "      <td>bc_open_to_buy</td>\n",
       "      <td>0.047787</td>\n",
       "    </tr>\n",
       "    <tr>\n",
       "      <th>7</th>\n",
       "      <td>mo_sin_rcnt_tl</td>\n",
       "      <td>0.025453</td>\n",
       "    </tr>\n",
       "    <tr>\n",
       "      <th>8</th>\n",
       "      <td>mths_since_recent_inq</td>\n",
       "      <td>0.056935</td>\n",
       "    </tr>\n",
       "    <tr>\n",
       "      <th>9</th>\n",
       "      <td>num_tl_op_past_12m</td>\n",
       "      <td>0.027613</td>\n",
       "    </tr>\n",
       "    <tr>\n",
       "      <th>10</th>\n",
       "      <td>tot_hi_cred_lim</td>\n",
       "      <td>0.030190</td>\n",
       "    </tr>\n",
       "    <tr>\n",
       "      <th>11</th>\n",
       "      <td>total_bc_limit</td>\n",
       "      <td>0.061173</td>\n",
       "    </tr>\n",
       "  </tbody>\n",
       "</table>\n",
       "</div>"
      ],
      "text/plain": [
       "                      col        iv\n",
       "0     verification_status  0.077051\n",
       "1                 purpose  0.059431\n",
       "2          inq_last_6mths  0.039703\n",
       "3               revol_bal  0.028345\n",
       "4              max_bal_bc  0.036580\n",
       "5        total_rev_hi_lim  0.048971\n",
       "6          bc_open_to_buy  0.047787\n",
       "7          mo_sin_rcnt_tl  0.025453\n",
       "8   mths_since_recent_inq  0.056935\n",
       "9      num_tl_op_past_12m  0.027613\n",
       "10        tot_hi_cred_lim  0.030190\n",
       "11         total_bc_limit  0.061173"
      ]
     },
     "execution_count": 5,
     "metadata": {},
     "output_type": "execute_result"
    }
   ],
   "source": [
    "feature_list"
   ]
  },
  {
   "cell_type": "markdown",
   "metadata": {},
   "source": [
    "1.可以看到这里有11个变量被挑选出来了，其中verification_status与purpose是类别变量，其他都是连续变量。在这里我们对于连续型变量用方差膨胀因子来查看多重共线性。  \n",
    "2.发现所有的变量对应的iv值都不大没有超过0.1的，这个数据集(在我没有构造衍生变量的情况下)中没有预测能力特别强的字段。"
   ]
  },
  {
   "cell_type": "code",
   "execution_count": 6,
   "metadata": {
    "scrolled": true
   },
   "outputs": [
    {
     "data": {
      "text/html": [
       "<div>\n",
       "<style scoped>\n",
       "    .dataframe tbody tr th:only-of-type {\n",
       "        vertical-align: middle;\n",
       "    }\n",
       "\n",
       "    .dataframe tbody tr th {\n",
       "        vertical-align: top;\n",
       "    }\n",
       "\n",
       "    .dataframe thead th {\n",
       "        text-align: right;\n",
       "    }\n",
       "</style>\n",
       "<table border=\"1\" class=\"dataframe\">\n",
       "  <thead>\n",
       "    <tr style=\"text-align: right;\">\n",
       "      <th></th>\n",
       "      <th>VIF Factor</th>\n",
       "      <th>features</th>\n",
       "    </tr>\n",
       "  </thead>\n",
       "  <tbody>\n",
       "    <tr>\n",
       "      <th>0</th>\n",
       "      <td>1.724098</td>\n",
       "      <td>inq_last_6mths</td>\n",
       "    </tr>\n",
       "    <tr>\n",
       "      <th>1</th>\n",
       "      <td>12.995219</td>\n",
       "      <td>revol_bal</td>\n",
       "    </tr>\n",
       "    <tr>\n",
       "      <th>2</th>\n",
       "      <td>5.508267</td>\n",
       "      <td>max_bal_bc</td>\n",
       "    </tr>\n",
       "    <tr>\n",
       "      <th>3</th>\n",
       "      <td>28.831864</td>\n",
       "      <td>total_rev_hi_lim</td>\n",
       "    </tr>\n",
       "    <tr>\n",
       "      <th>4</th>\n",
       "      <td>21.341303</td>\n",
       "      <td>bc_open_to_buy</td>\n",
       "    </tr>\n",
       "    <tr>\n",
       "      <th>5</th>\n",
       "      <td>1.779618</td>\n",
       "      <td>mo_sin_rcnt_tl</td>\n",
       "    </tr>\n",
       "    <tr>\n",
       "      <th>6</th>\n",
       "      <td>2.304276</td>\n",
       "      <td>mths_since_recent_inq</td>\n",
       "    </tr>\n",
       "    <tr>\n",
       "      <th>7</th>\n",
       "      <td>2.409998</td>\n",
       "      <td>num_tl_op_past_12m</td>\n",
       "    </tr>\n",
       "    <tr>\n",
       "      <th>8</th>\n",
       "      <td>2.636940</td>\n",
       "      <td>tot_hi_cred_lim</td>\n",
       "    </tr>\n",
       "    <tr>\n",
       "      <th>9</th>\n",
       "      <td>27.517517</td>\n",
       "      <td>total_bc_limit</td>\n",
       "    </tr>\n",
       "  </tbody>\n",
       "</table>\n",
       "</div>"
      ],
      "text/plain": [
       "   VIF Factor               features\n",
       "0    1.724098         inq_last_6mths\n",
       "1   12.995219              revol_bal\n",
       "2    5.508267             max_bal_bc\n",
       "3   28.831864       total_rev_hi_lim\n",
       "4   21.341303         bc_open_to_buy\n",
       "5    1.779618         mo_sin_rcnt_tl\n",
       "6    2.304276  mths_since_recent_inq\n",
       "7    2.409998     num_tl_op_past_12m\n",
       "8    2.636940        tot_hi_cred_lim\n",
       "9   27.517517         total_bc_limit"
      ]
     },
     "execution_count": 6,
     "metadata": {},
     "output_type": "execute_result"
    }
   ],
   "source": [
    "vif_cal(df,feature_list)"
   ]
  },
  {
   "cell_type": "code",
   "execution_count": 7,
   "metadata": {},
   "outputs": [
    {
     "data": {
      "text/plain": [
       "array(['inq_last_6mths', 'revol_bal', 'max_bal_bc', 'total_rev_hi_lim',\n",
       "       'bc_open_to_buy', 'mo_sin_rcnt_tl', 'mths_since_recent_inq',\n",
       "       'num_tl_op_past_12m', 'tot_hi_cred_lim', 'total_bc_limit'],\n",
       "      dtype=object)"
      ]
     },
     "execution_count": 7,
     "metadata": {},
     "output_type": "execute_result"
    }
   ],
   "source": [
    "vif_cal(df,feature_list)['features'].values"
   ]
  },
  {
   "cell_type": "markdown",
   "metadata": {},
   "source": [
    "从结果中可以看出revol_bal,total_rev_hi_lim,bc_open_to_buy,total_bc_limit,max_bal_bc的方差膨胀因子大于5，说明存在较强的多重共线性，这里我们按照上面得到的iv值的大小来对于iv值小的字段进行删除，之后再计算方差膨胀因子，直到没有字段的方差膨胀因子大于5。这里就不进行演示了，无非重复过程而已。最后得到以下的字段来进行训练。\n",
    "https://www.statsmodels.org/dev/generated/statsmodels.stats.outliers_influence.variance_inflation_factor.html"
   ]
  },
  {
   "cell_type": "code",
   "execution_count": 8,
   "metadata": {},
   "outputs": [
    {
     "data": {
      "text/html": [
       "<div>\n",
       "<style scoped>\n",
       "    .dataframe tbody tr th:only-of-type {\n",
       "        vertical-align: middle;\n",
       "    }\n",
       "\n",
       "    .dataframe tbody tr th {\n",
       "        vertical-align: top;\n",
       "    }\n",
       "\n",
       "    .dataframe thead th {\n",
       "        text-align: right;\n",
       "    }\n",
       "</style>\n",
       "<table border=\"1\" class=\"dataframe\">\n",
       "  <thead>\n",
       "    <tr style=\"text-align: right;\">\n",
       "      <th></th>\n",
       "      <th>VIF Factor</th>\n",
       "      <th>features</th>\n",
       "    </tr>\n",
       "  </thead>\n",
       "  <tbody>\n",
       "    <tr>\n",
       "      <th>0</th>\n",
       "      <td>1.255104</td>\n",
       "      <td>inq_last_6mths</td>\n",
       "    </tr>\n",
       "    <tr>\n",
       "      <th>1</th>\n",
       "      <td>1.649291</td>\n",
       "      <td>mo_sin_rcnt_tl</td>\n",
       "    </tr>\n",
       "    <tr>\n",
       "      <th>2</th>\n",
       "      <td>2.015897</td>\n",
       "      <td>mths_since_recent_inq</td>\n",
       "    </tr>\n",
       "    <tr>\n",
       "      <th>3</th>\n",
       "      <td>2.177130</td>\n",
       "      <td>tot_hi_cred_lim</td>\n",
       "    </tr>\n",
       "    <tr>\n",
       "      <th>4</th>\n",
       "      <td>2.315525</td>\n",
       "      <td>total_bc_limit</td>\n",
       "    </tr>\n",
       "  </tbody>\n",
       "</table>\n",
       "</div>"
      ],
      "text/plain": [
       "   VIF Factor               features\n",
       "0    1.255104         inq_last_6mths\n",
       "1    1.649291         mo_sin_rcnt_tl\n",
       "2    2.015897  mths_since_recent_inq\n",
       "3    2.177130        tot_hi_cred_lim\n",
       "4    2.315525         total_bc_limit"
      ]
     },
     "execution_count": 8,
     "metadata": {},
     "output_type": "execute_result"
    }
   ],
   "source": [
    "data_x = df[['inq_last_6mths', 'mo_sin_rcnt_tl', 'mths_since_recent_inq',\n",
    "       'tot_hi_cred_lim', 'total_bc_limit']].select_dtypes(include=['float64'])\n",
    "vif = pd.DataFrame()\n",
    "vif[\"VIF Factor\"] = [variance_inflation_factor(data_x.values, i) for i in range(data_x.shape[1])]\n",
    "vif[\"features\"] = data_x.columns\n",
    "vif"
   ]
  },
  {
   "cell_type": "markdown",
   "metadata": {},
   "source": [
    "最后得到此结果，发现已经没有方差膨胀因子大于5的字段了。"
   ]
  },
  {
   "cell_type": "code",
   "execution_count": 9,
   "metadata": {},
   "outputs": [],
   "source": [
    "feature_df = df[['verification_status', 'purpose', 'inq_last_6mths', 'mo_sin_rcnt_tl', 'mths_since_recent_inq', 'tot_hi_cred_lim', 'total_bc_limit']].copy()\n",
    "feature_df['class'] = df['class'].copy()\n",
    "woe_list= cal_woe_iv(feature_df)"
   ]
  },
  {
   "cell_type": "markdown",
   "metadata": {},
   "source": [
    "由于本次建模中分箱使用的是无监督分箱，因此需要检查一下单调性，并且顺便探究一下字段的影响。"
   ]
  },
  {
   "cell_type": "code",
   "execution_count": 10,
   "metadata": {},
   "outputs": [
    {
     "data": {
      "text/plain": [
       "<matplotlib.axes._subplots.AxesSubplot at 0xbfcb2e8>"
      ]
     },
     "execution_count": 10,
     "metadata": {},
     "output_type": "execute_result"
    },
    {
     "data": {
      "image/png": "[encoded data removed]",
      "text/plain": [
       "<Figure size 432x288 with 1 Axes>"
      ]
     },
     "metadata": {
      "needs_background": "light"
     },
     "output_type": "display_data"
    }
   ],
   "source": [
    "woe_list[0][1].plot(kind='bar')"
   ]
  },
  {
   "cell_type": "markdown",
   "metadata": {},
   "source": [
    "这个结果很出乎我的意料，因为本次建模中使用的是1代表坏人(一般来说都是这样),\n",
    "那么woe为正的部分则说明会增加为坏人的风险。\n",
    "而个人的固有理解是收入来源被验证过的人应该不容易违约才对，不过这个数据集里看来并不是这样。(心理模型再一次失败)"
   ]
  },
  {
   "cell_type": "code",
   "execution_count": 11,
   "metadata": {},
   "outputs": [
    {
     "data": {
      "text/plain": [
       "<matplotlib.axes._subplots.AxesSubplot at 0xb4f0160>"
      ]
     },
     "execution_count": 11,
     "metadata": {},
     "output_type": "execute_result"
    },
    {
     "data": {
      "image/png": "[encoded data removed]",
      "text/plain": [
       "<Figure size 432x288 with 1 Axes>"
      ]
     },
     "metadata": {
      "needs_background": "light"
     },
     "output_type": "display_data"
    }
   ],
   "source": [
    "woe_list[1][1].plot(kind='bar')"
   ]
  },
  {
   "cell_type": "markdown",
   "metadata": {},
   "source": [
    "这是借款目的所对应的，发现以结婚为目的借钱的人最有风险。"
   ]
  },
  {
   "cell_type": "code",
   "execution_count": 12,
   "metadata": {},
   "outputs": [
    {
     "data": {
      "text/plain": [
       "<matplotlib.axes._subplots.AxesSubplot at 0xb59c5f8>"
      ]
     },
     "execution_count": 12,
     "metadata": {},
     "output_type": "execute_result"
    },
    {
     "data": {
      "image/png": "[encoded data removed]",
      "text/plain": [
       "<Figure size 432x288 with 1 Axes>"
      ]
     },
     "metadata": {
      "needs_background": "light"
     },
     "output_type": "display_data"
    }
   ],
   "source": [
    "woe_list[2][1].rename({woe_list[2][1].index[3]:'(3.75,∞)'},inplace = True)\n",
    "woe_list[2][1].plot(kind='bar')"
   ]
  },
  {
   "cell_type": "code",
   "execution_count": 13,
   "metadata": {},
   "outputs": [
    {
     "data": {
      "text/plain": [
       "<matplotlib.axes._subplots.AxesSubplot at 0x9918518>"
      ]
     },
     "execution_count": 13,
     "metadata": {},
     "output_type": "execute_result"
    },
    {
     "data": {
      "image/png": "[encoded data removed]",
      "text/plain": [
       "<Figure size 432x288 with 1 Axes>"
      ]
     },
     "metadata": {
      "needs_background": "light"
     },
     "output_type": "display_data"
    }
   ],
   "source": [
    "woe_list[3][1].rename({woe_list[3][1].index[3]:'(11.0,∞)'},inplace = True)\n",
    "woe_list[3][1].plot(kind='bar')"
   ]
  },
  {
   "cell_type": "code",
   "execution_count": 14,
   "metadata": {},
   "outputs": [
    {
     "data": {
      "text/plain": [
       "<matplotlib.axes._subplots.AxesSubplot at 0xb63c908>"
      ]
     },
     "execution_count": 14,
     "metadata": {},
     "output_type": "execute_result"
    },
    {
     "data": {
      "image/png": "[encoded data removed]",
      "text/plain": [
       "<Figure size 432x288 with 1 Axes>"
      ]
     },
     "metadata": {
      "needs_background": "light"
     },
     "output_type": "display_data"
    }
   ],
   "source": [
    "woe_list[4][1].rename({woe_list[4][1].index[3]:'(10.0,∞)'},inplace = True)\n",
    "woe_list[4][1].plot(kind='bar')"
   ]
  },
  {
   "cell_type": "code",
   "execution_count": 15,
   "metadata": {},
   "outputs": [
    {
     "data": {
      "text/plain": [
       "<matplotlib.axes._subplots.AxesSubplot at 0xbb224a8>"
      ]
     },
     "execution_count": 15,
     "metadata": {},
     "output_type": "execute_result"
    },
    {
     "data": {
      "image/png": "[encoded data removed]",
      "text/plain": [
       "<Figure size 432x288 with 1 Axes>"
      ]
     },
     "metadata": {
      "needs_background": "light"
     },
     "output_type": "display_data"
    }
   ],
   "source": [
    "woe_list[5][1].rename({woe_list[5][1].index[3]:'(265743.25,∞)'},inplace = True)\n",
    "woe_list[5][1].plot(kind='bar')"
   ]
  },
  {
   "cell_type": "code",
   "execution_count": 16,
   "metadata": {},
   "outputs": [
    {
     "data": {
      "text/plain": [
       "<matplotlib.axes._subplots.AxesSubplot at 0xbb807f0>"
      ]
     },
     "execution_count": 16,
     "metadata": {},
     "output_type": "execute_result"
    },
    {
     "data": {
      "image/png": "[encoded data removed]",
      "text/plain": [
       "<Figure size 432x288 with 1 Axes>"
      ]
     },
     "metadata": {
      "needs_background": "light"
     },
     "output_type": "display_data"
    }
   ],
   "source": [
    "woe_list[6][1].rename({woe_list[6][1].index[3]:'(34500.0,∞)'},inplace = True)\n",
    "woe_list[6][1].plot(kind='bar')"
   ]
  },
  {
   "cell_type": "markdown",
   "metadata": {},
   "source": [
    "综合以上所有图，除了分类变量外，连续变量都已经单调化了。下面可以进行建模了。 "
   ]
  },
  {
   "cell_type": "markdown",
   "metadata": {},
   "source": [
    "# 2.建模"
   ]
  },
  {
   "cell_type": "markdown",
   "metadata": {},
   "source": [
    " 首先需要处理一下数据不平衡的问题,正如前篇中指出的正反例极度不平衡，这样建模的话会有问题。\n",
    "首先我们来看一下这样建模会出什么问题。\n",
    "将数据集进行woe编码，然后进行建模。"
   ]
  },
  {
   "cell_type": "code",
   "execution_count": 17,
   "metadata": {},
   "outputs": [
    {
     "data": {
      "text/plain": [
       "0.9555397251089507"
      ]
     },
     "execution_count": 17,
     "metadata": {},
     "output_type": "execute_result"
    }
   ],
   "source": [
    "woe_df = replace_woe(feature_df) #将特征转换为woe值\n",
    "X = woe_df.iloc[:,:-1].values\n",
    "y = woe_df.iloc[:,-1].values\n",
    "x_train,x_test,y_train,y_test=train_test_split(X,y,test_size=0.2,random_state=0)\n",
    "clf = LogisticRegression(random_state=0, solver='saga').fit(x_train, y_train)\n",
    "clf.score(x_test,y_test)"
   ]
  },
  {
   "cell_type": "markdown",
   "metadata": {},
   "source": [
    "发现准确率这么高，但是仔细考虑一下之后发现，这其实和本身正例占有的数目差不多，我们来看一下预测结果。"
   ]
  },
  {
   "cell_type": "code",
   "execution_count": 18,
   "metadata": {},
   "outputs": [
    {
     "data": {
      "text/plain": [
       "0"
      ]
     },
     "execution_count": 18,
     "metadata": {},
     "output_type": "execute_result"
    }
   ],
   "source": [
    "y_pred = clf.predict(x_test)\n",
    "sum(y_pred)"
   ]
  },
  {
   "cell_type": "markdown",
   "metadata": {},
   "source": [
    "发现预测结果都是零,这就说明所有的结果都被预测为了正类。这个是因为什么原因呢？\n",
    "（需要完成的任务）：1结合损失函数来说明为什么会这样。因为从函数来看优化的是整体的。所以单纯这样不行。\n",
    "              2说出解决办法 调整阈值或者重新采样\n",
    "              3重新采样后的结果"
   ]
  },
  {
   "attachments": {
    "image.png": {
     "image/png": "[encoded data removed]"
    }
   },
   "cell_type": "markdown",
   "metadata": {},
   "source": [
    "![image.png](attachment:image.png)"
   ]
  },
  {
   "cell_type": "markdown",
   "metadata": {},
   "source": [
    "首先逻辑回归的损失函数为以上的形式，整个逻辑回归的优化目标是使得整体的损失函数的值变小。  \n",
    "因此，如果数据为本次数据集这样很不平衡的形式，自然而然要使得分类器会偏向大类，这样才能使得整体的损失函数的值较小。  \n",
    "因此这样导致了准确率十分高，但是作为分类器是失败的。  \n",
    "那么怎样解决这个问题呢，一个可行的方法就是用过采样或者欠采样。  \n",
    "本次采用欠采样来进行操作。"
   ]
  },
  {
   "cell_type": "code",
   "execution_count": 22,
   "metadata": {},
   "outputs": [],
   "source": [
    "#首先按照4:1的比例将训练集分开\n",
    "from sklearn.model_selection import train_test_split\n",
    "train,test = train_test_split(woe_df,test_size=0.2,random_state=0)\n",
    "x_test_1 = test.iloc[:,:-1]\n",
    "y_test_1 = test.iloc[:,-1]"
   ]
  },
  {
   "cell_type": "code",
   "execution_count": 23,
   "metadata": {},
   "outputs": [
    {
     "data": {
      "text/plain": [
       "0    182788\n",
       "1      8120\n",
       "Name: class, dtype: int64"
      ]
     },
     "execution_count": 23,
     "metadata": {},
     "output_type": "execute_result"
    }
   ],
   "source": [
    "train['class'].value_counts()"
   ]
  },
  {
   "cell_type": "markdown",
   "metadata": {},
   "source": [
    "发现将数据集分开以后，训练集中有8120个违约类，因此从需要从正类中重新取样8120个非违约类。"
   ]
  },
  {
   "cell_type": "code",
   "execution_count": 25,
   "metadata": {},
   "outputs": [
    {
     "data": {
      "text/plain": [
       "1    8120\n",
       "0    8120\n",
       "Name: class, dtype: int64"
      ]
     },
     "execution_count": 25,
     "metadata": {},
     "output_type": "execute_result"
    }
   ],
   "source": [
    "df1 = train.loc[train['class'] == 0]\n",
    "df2 = train.loc[train['class'] == 1]\n",
    "df1 = df1.sample(n=8120)\n",
    "train = pd.concat([df1,df2],ignore_index = True)\n",
    "train['class'].value_counts()"
   ]
  },
  {
   "cell_type": "markdown",
   "metadata": {},
   "source": [
    "进行建模"
   ]
  },
  {
   "cell_type": "code",
   "execution_count": 27,
   "metadata": {},
   "outputs": [
    {
     "data": {
      "text/plain": [
       "0.606855514582635"
      ]
     },
     "execution_count": 27,
     "metadata": {},
     "output_type": "execute_result"
    }
   ],
   "source": [
    "from sklearn.linear_model import LogisticRegression\n",
    "from sklearn.model_selection import train_test_split\n",
    "X = train.iloc[:,:-1].values\n",
    "y = train.iloc[:,-1].values\n",
    "clf = LogisticRegression(random_state=0, solver='saga').fit(X, y)\n",
    "clf.score(x_test_1,y_test_1)"
   ]
  },
  {
   "cell_type": "markdown",
   "metadata": {},
   "source": [
    "发现模型效果很差，不过这个从一开始的IV值中也可以看出来，因为IV值均较小，没有预测能力特别强的特征。"
   ]
  },
  {
   "cell_type": "code",
   "execution_count": 30,
   "metadata": {},
   "outputs": [
    {
     "data": {
      "text/plain": [
       "<matplotlib.legend.Legend at 0x4eca7f0>"
      ]
     },
     "execution_count": 30,
     "metadata": {},
     "output_type": "execute_result"
    },
    {
     "data": {
      "image/png": "[encoded data removed]",
      "text/plain": [
       "<Figure size 432x288 with 1 Axes>"
      ]
     },
     "metadata": {
      "needs_background": "light"
     },
     "output_type": "display_data"
    }
   ],
   "source": [
    "from sklearn.metrics import roc_curve, auc\n",
    "fpr, tpr, threshold = roc_curve(y_test_1, clf.predict_proba(x_test_1)[:,-1])\n",
    "roc_auc = auc(fpr, tpr)\n",
    "plt.plot(fpr, tpr, color='darkorange',label='ROC curve (area = %0.2f)' % roc_auc)\n",
    "plt.plot([0, 1], [0, 1], color='navy',  linestyle='--')\n",
    "plt.xlim([0.0, 1.0])\n",
    "plt.ylim([0.0, 1.0])\n",
    "plt.xlabel('False Positive Rate')\n",
    "plt.ylabel('True Positive Rate')\n",
    "plt.title('ROC_curve')\n",
    "plt.legend(loc=\"lower right\")"
   ]
  },
  {
   "cell_type": "markdown",
   "metadata": {},
   "source": [
    "看ROC曲线也可以看出模型的效果并不好。这有可能是数据集本身的问题，也很有可能是我对于金融评分卡中的业务理解太差，导致无法创造出强有力的特征有关系。"
   ]
  },
  {
   "cell_type": "markdown",
   "metadata": {},
   "source": [
    "# 3.评分卡转换"
   ]
  },
  {
   "attachments": {
    "image.png": {
     "image/png": "[encoded data removed]"
    }
   },
   "cell_type": "markdown",
   "metadata": {},
   "source": [
    "评分卡转换的环节这里主要介绍如何做。\n",
    "![image.png](attachment:image.png)"
   ]
  },
  {
   "cell_type": "markdown",
   "metadata": {},
   "source": [
    "首先评分卡由上面的左边的公式来决定。A为初始分值,B为比例系数。  \n",
    "log(odds)计算之后就将建模过程中的逻辑回归的系数给取出来了，这就出现的线性的部分。  \n",
    "这里我们取基础分为200分，比例系数为20分，来进行计算，并将部分结果放在下面。"
   ]
  },
  {
   "attachments": {
    "image.png": {
     "image/png": "[encoded data removed]"
    }
   },
   "cell_type": "markdown",
   "metadata": {},
   "source": [
    "![image.png](attachment:image.png)"
   ]
  },
  {
   "cell_type": "markdown",
   "metadata": {},
   "source": [
    "可以发现进行计算之后，已经得到了分值。具体计算的时候只要按照相应数值进行计算就好。"
   ]
  }
 ],
 "metadata": {
  "kernelspec": {
   "display_name": "Python 3",
   "language": "python",
   "name": "python3"
  },
  "language_info": {
   "codemirror_mode": {
    "name": "ipython",
    "version": 3
   },
   "file_extension": ".py",
   "mimetype": "text/x-python",
   "name": "python",
   "nbconvert_exporter": "python",
   "pygments_lexer": "ipython3",
   "version": "3.7.0"
  }
 },
 "nbformat": 4,
 "nbformat_minor": 2
}
